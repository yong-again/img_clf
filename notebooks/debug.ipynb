{
 "cells": [
  {
   "cell_type": "code",
   "execution_count": 43,
   "metadata": {},
   "outputs": [],
   "source": [
    "import os\n",
    "import sys\n",
    "\n",
    "# Ensure the current directory is in the Python path\n",
    "sys.path.append('/Users/iyongjeong/WORK/dacon/clf/')\n",
    "from loader import ImageDataset\n",
    "from torchvision import transforms\n",
    "from torch.utils.data import DataLoader\n",
    "from torchvision.models import resnet50, ResNet50_Weights, resnet18, ResNet18_Weights, efficientnet_b0, EfficientNet_B0_Weights\n",
    "from tqdm import tqdm"
   ]
  },
  {
   "cell_type": "code",
   "execution_count": 47,
   "metadata": {},
   "outputs": [
    {
     "name": "stdout",
     "output_type": "stream",
     "text": [
      "torch.Size([4, 3, 224, 224]) torch.Size([4])\n"
     ]
    }
   ],
   "source": [
    "csv_dir = '/Users/iyongjeong/WORK/dacon/clf/data/train_csv/train_file_list_100.csv'\n",
    "transform = transforms.Compose([\n",
    "    transforms.Resize((224, 224)),\n",
    "    transforms.ToTensor(),\n",
    "    transforms.Normalize(mean=[0.485, 0.456, 0.406], std=[0.229, 0.224, 0.225])\n",
    "])\n",
    "\n",
    "dataset = ImageDataset(csv_dir=csv_dir, transform=transform)\n",
    "dataset.load_data()\n",
    "\n",
    "dataloader = DataLoader(dataset, batch_size=4, shuffle=True)\n",
    "\n",
    "for images, labels in dataloader:\n",
    "    print(images.shape, labels.shape)\n",
    "    break"
   ]
  },
  {
   "cell_type": "code",
   "execution_count": 48,
   "metadata": {},
   "outputs": [],
   "source": [
    "# fine tunning\n",
    "model = efficientnet_b0(weights=EfficientNet_B0_Weights.IMAGENET1K_V1)"
   ]
  },
  {
   "cell_type": "code",
   "execution_count": 53,
   "metadata": {},
   "outputs": [],
   "source": [
    "def train(model, dataloader, epochs=10, learning_rate=0.001):\n",
    "    import torch\n",
    "    import torch.optim as optim\n",
    "    import torch.nn as nn\n",
    "\n",
    "    device = torch.device(\"cuda\" if torch.cuda.is_available() else \"cpu\")\n",
    "    model.to(device)\n",
    "    \n",
    "    criterion = nn.CrossEntropyLoss()\n",
    "    optimizer = optim.Adam(model.parameters(), lr=learning_rate)\n",
    "\n",
    "    model.train()\n",
    "    for epoch in range(epochs):\n",
    "        running_loss = 0.0\n",
    "        for images, labels in dataloader:\n",
    "            images, labels = images.to(device), labels.to(device)\n",
    "            \n",
    "            # print shapes for debugging\n",
    "            #print(f\"Batch images shape: {images.shape}, labels shape: {labels.shape}\")\n",
    "\n",
    "            optimizer.zero_grad()\n",
    "            outputs = model(images)\n",
    "            loss = criterion(outputs, labels)\n",
    "            loss.backward()\n",
    "            optimizer.step()\n",
    "\n",
    "            running_loss += loss.item()\n",
    "\n",
    "        print(f\"Epoch [{epoch+1}/{epochs}], Loss: {running_loss/len(dataloader):.4f}\")"
   ]
  },
  {
   "cell_type": "code",
   "execution_count": 54,
   "metadata": {},
   "outputs": [
    {
     "name": "stdout",
     "output_type": "stream",
     "text": [
      "Epoch [1/100], Loss: 0.3352\n",
      "Epoch [2/100], Loss: 0.2524\n",
      "Epoch [3/100], Loss: 0.0427\n",
      "Epoch [4/100], Loss: 0.0576\n",
      "Epoch [5/100], Loss: 0.1135\n",
      "Epoch [6/100], Loss: 0.1005\n",
      "Epoch [7/100], Loss: 0.0131\n",
      "Epoch [8/100], Loss: 0.0067\n",
      "Epoch [9/100], Loss: 0.0023\n",
      "Epoch [10/100], Loss: 0.0013\n",
      "Epoch [11/100], Loss: 0.0020\n",
      "Epoch [12/100], Loss: 0.0008\n",
      "Epoch [13/100], Loss: 0.0063\n",
      "Epoch [14/100], Loss: 0.0048\n",
      "Epoch [15/100], Loss: 0.0171\n",
      "Epoch [16/100], Loss: 0.0257\n",
      "Epoch [17/100], Loss: 0.0859\n",
      "Epoch [18/100], Loss: 0.0211\n",
      "Epoch [19/100], Loss: 0.0133\n",
      "Epoch [20/100], Loss: 0.0678\n",
      "Epoch [21/100], Loss: 0.2601\n",
      "Epoch [22/100], Loss: 0.1573\n",
      "Epoch [23/100], Loss: 0.1335\n",
      "Epoch [24/100], Loss: 0.0617\n",
      "Epoch [25/100], Loss: 0.0150\n",
      "Epoch [26/100], Loss: 0.0065\n",
      "Epoch [27/100], Loss: 0.0016\n",
      "Epoch [28/100], Loss: 0.0011\n",
      "Epoch [29/100], Loss: 0.0007\n",
      "Epoch [30/100], Loss: 0.0143\n",
      "Epoch [31/100], Loss: 0.0033\n",
      "Epoch [32/100], Loss: 0.0069\n",
      "Epoch [33/100], Loss: 0.0033\n",
      "Epoch [34/100], Loss: 0.0009\n",
      "Epoch [35/100], Loss: 0.0005\n",
      "Epoch [36/100], Loss: 0.0103\n",
      "Epoch [37/100], Loss: 0.0068\n",
      "Epoch [38/100], Loss: 0.0018\n",
      "Epoch [39/100], Loss: 0.0003\n",
      "Epoch [40/100], Loss: 0.0002\n",
      "Epoch [41/100], Loss: 0.0006\n",
      "Epoch [42/100], Loss: 0.0041\n",
      "Epoch [43/100], Loss: 0.0007\n",
      "Epoch [44/100], Loss: 0.0009\n",
      "Epoch [45/100], Loss: 0.0004\n",
      "Epoch [46/100], Loss: 0.0001\n",
      "Epoch [47/100], Loss: 0.0002\n",
      "Epoch [48/100], Loss: 0.0014\n",
      "Epoch [49/100], Loss: 0.0017\n",
      "Epoch [50/100], Loss: 0.0001\n",
      "Epoch [51/100], Loss: 0.0001\n",
      "Epoch [52/100], Loss: 0.0001\n",
      "Epoch [53/100], Loss: 0.0001\n",
      "Epoch [54/100], Loss: 0.0214\n",
      "Epoch [55/100], Loss: 0.0031\n",
      "Epoch [56/100], Loss: 0.0006\n",
      "Epoch [57/100], Loss: 0.0004\n",
      "Epoch [58/100], Loss: 0.0003\n",
      "Epoch [59/100], Loss: 0.0004\n",
      "Epoch [60/100], Loss: 0.0002\n",
      "Epoch [61/100], Loss: 0.0002\n",
      "Epoch [62/100], Loss: 0.0001\n",
      "Epoch [63/100], Loss: 0.0001\n",
      "Epoch [64/100], Loss: 0.0067\n",
      "Epoch [65/100], Loss: 0.0584\n",
      "Epoch [66/100], Loss: 0.1835\n",
      "Epoch [67/100], Loss: 0.0066\n",
      "Epoch [68/100], Loss: 0.2148\n",
      "Epoch [69/100], Loss: 0.0895\n",
      "Epoch [70/100], Loss: 0.0143\n",
      "Epoch [71/100], Loss: 0.0049\n",
      "Epoch [72/100], Loss: 0.0023\n",
      "Epoch [73/100], Loss: 0.0013\n",
      "Epoch [74/100], Loss: 0.0011\n",
      "Epoch [75/100], Loss: 0.0024\n",
      "Epoch [76/100], Loss: 0.0330\n",
      "Epoch [77/100], Loss: 0.0311\n",
      "Epoch [78/100], Loss: 0.0125\n",
      "Epoch [79/100], Loss: 0.0017\n",
      "Epoch [80/100], Loss: 0.1424\n",
      "Epoch [81/100], Loss: 0.2499\n",
      "Epoch [82/100], Loss: 0.0596\n",
      "Epoch [83/100], Loss: 0.0394\n",
      "Epoch [84/100], Loss: 0.0204\n",
      "Epoch [85/100], Loss: 0.0028\n",
      "Epoch [86/100], Loss: 0.0018\n",
      "Epoch [87/100], Loss: 0.0017\n",
      "Epoch [88/100], Loss: 0.0003\n",
      "Epoch [89/100], Loss: 0.0603\n",
      "Epoch [90/100], Loss: 0.2871\n",
      "Epoch [91/100], Loss: 0.0463\n",
      "Epoch [92/100], Loss: 0.0066\n",
      "Epoch [93/100], Loss: 0.0032\n",
      "Epoch [94/100], Loss: 0.0020\n",
      "Epoch [95/100], Loss: 0.0013\n",
      "Epoch [96/100], Loss: 0.0010\n",
      "Epoch [97/100], Loss: 0.0009\n",
      "Epoch [98/100], Loss: 0.0011\n",
      "Epoch [99/100], Loss: 0.0012\n",
      "Epoch [100/100], Loss: 0.0005\n"
     ]
    }
   ],
   "source": [
    "# train debug\n",
    "train(model, dataloader, epochs=100, learning_rate=0.001)"
   ]
  },
  {
   "cell_type": "code",
   "execution_count": null,
   "metadata": {},
   "outputs": [],
   "source": []
  },
  {
   "cell_type": "code",
   "execution_count": null,
   "metadata": {},
   "outputs": [],
   "source": []
  },
  {
   "cell_type": "code",
   "execution_count": null,
   "metadata": {},
   "outputs": [],
   "source": []
  },
  {
   "cell_type": "code",
   "execution_count": null,
   "metadata": {},
   "outputs": [],
   "source": []
  },
  {
   "cell_type": "code",
   "execution_count": null,
   "metadata": {},
   "outputs": [],
   "source": []
  },
  {
   "cell_type": "code",
   "execution_count": null,
   "metadata": {},
   "outputs": [],
   "source": []
  },
  {
   "cell_type": "code",
   "execution_count": null,
   "metadata": {},
   "outputs": [],
   "source": []
  },
  {
   "cell_type": "code",
   "execution_count": null,
   "metadata": {},
   "outputs": [],
   "source": []
  },
  {
   "cell_type": "code",
   "execution_count": null,
   "metadata": {},
   "outputs": [],
   "source": []
  },
  {
   "cell_type": "code",
   "execution_count": null,
   "metadata": {},
   "outputs": [],
   "source": []
  },
  {
   "cell_type": "code",
   "execution_count": null,
   "metadata": {},
   "outputs": [],
   "source": []
  },
  {
   "cell_type": "code",
   "execution_count": null,
   "metadata": {},
   "outputs": [],
   "source": []
  },
  {
   "cell_type": "code",
   "execution_count": null,
   "metadata": {},
   "outputs": [],
   "source": []
  },
  {
   "cell_type": "code",
   "execution_count": null,
   "metadata": {},
   "outputs": [],
   "source": []
  },
  {
   "cell_type": "code",
   "execution_count": null,
   "metadata": {},
   "outputs": [],
   "source": []
  }
 ],
 "metadata": {
  "kernelspec": {
   "display_name": ".venv",
   "language": "python",
   "name": "python3"
  },
  "language_info": {
   "codemirror_mode": {
    "name": "ipython",
    "version": 3
   },
   "file_extension": ".py",
   "mimetype": "text/x-python",
   "name": "python",
   "nbconvert_exporter": "python",
   "pygments_lexer": "ipython3",
   "version": "3.12.0"
  }
 },
 "nbformat": 4,
 "nbformat_minor": 2
}
