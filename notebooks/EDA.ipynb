{
 "cells": [
  {
   "cell_type": "code",
   "execution_count": 50,
   "metadata": {},
   "outputs": [],
   "source": [
    "import os\n",
    "import pandas as pd\n",
    "import numpy as np\n",
    "import torch\n",
    "import torchvision\n",
    "import cv2"
   ]
  },
  {
   "cell_type": "code",
   "execution_count": 51,
   "metadata": {},
   "outputs": [],
   "source": [
    "dir = '/Users/iyongjeong/WORK/dacon/clf/data/train'"
   ]
  },
  {
   "cell_type": "code",
   "execution_count": 52,
   "metadata": {},
   "outputs": [
    {
     "name": "stdout",
     "output_type": "stream",
     "text": [
      "397\n"
     ]
    }
   ],
   "source": [
    "folder_ls = os.listdir(dir)\n",
    "folder_ls = sorted(folder_ls)\n",
    "print(len(folder_ls))"
   ]
  },
  {
   "cell_type": "code",
   "execution_count": 53,
   "metadata": {},
   "outputs": [],
   "source": [
    "folder_ls_fl = [folder for folder in folder_ls if not folder.startswith('.')]"
   ]
  },
  {
   "cell_type": "code",
   "execution_count": 54,
   "metadata": {},
   "outputs": [
    {
     "data": {
      "text/plain": [
       "396"
      ]
     },
     "execution_count": 54,
     "metadata": {},
     "output_type": "execute_result"
    }
   ],
   "source": [
    "len(folder_ls_fl)"
   ]
  },
  {
   "cell_type": "code",
   "execution_count": 55,
   "metadata": {},
   "outputs": [],
   "source": [
    "# make file list each folder\n",
    "\n",
    "file_ls = []\n",
    "for folder in folder_ls_fl:\n",
    "    folder_path = os.path.join(dir, folder)\n",
    "    file_ls += [os.path.join(folder_path, file) for file in os.listdir(folder_path)]"
   ]
  },
  {
   "cell_type": "code",
   "execution_count": 56,
   "metadata": {},
   "outputs": [
    {
     "name": "stdout",
     "output_type": "stream",
     "text": [
      "['/Users/iyongjeong/WORK/dacon/clf/data/train/1시리즈_F20_2013_2015/1시리즈_F20_2013_2015_0080.jpg', '/Users/iyongjeong/WORK/dacon/clf/data/train/1시리즈_F20_2013_2015/1시리즈_F20_2013_2015_0057.jpg', '/Users/iyongjeong/WORK/dacon/clf/data/train/1시리즈_F20_2013_2015/1시리즈_F20_2013_2015_0043.jpg', '/Users/iyongjeong/WORK/dacon/clf/data/train/1시리즈_F20_2013_2015/1시리즈_F20_2013_2015_0042.jpg', '/Users/iyongjeong/WORK/dacon/clf/data/train/1시리즈_F20_2013_2015/1시리즈_F20_2013_2015_0056.jpg']\n"
     ]
    }
   ],
   "source": [
    "print(file_ls[:5])"
   ]
  },
  {
   "cell_type": "code",
   "execution_count": 57,
   "metadata": {},
   "outputs": [],
   "source": [
    "file_ls = sorted(file_ls)"
   ]
  },
  {
   "cell_type": "code",
   "execution_count": 58,
   "metadata": {},
   "outputs": [
    {
     "name": "stdout",
     "output_type": "stream",
     "text": [
      "['/Users/iyongjeong/WORK/dacon/clf/data/train/1시리즈_F20_2013_2015/1시리즈_F20_2013_2015_0000.jpg', '/Users/iyongjeong/WORK/dacon/clf/data/train/1시리즈_F20_2013_2015/1시리즈_F20_2013_2015_0001.jpg', '/Users/iyongjeong/WORK/dacon/clf/data/train/1시리즈_F20_2013_2015/1시리즈_F20_2013_2015_0002.jpg', '/Users/iyongjeong/WORK/dacon/clf/data/train/1시리즈_F20_2013_2015/1시리즈_F20_2013_2015_0003.jpg', '/Users/iyongjeong/WORK/dacon/clf/data/train/1시리즈_F20_2013_2015/1시리즈_F20_2013_2015_0004.jpg']\n"
     ]
    }
   ],
   "source": [
    "print(file_ls[:5])"
   ]
  },
  {
   "cell_type": "code",
   "execution_count": 59,
   "metadata": {},
   "outputs": [],
   "source": [
    "# make dataframe\n",
    "\n",
    "df = pd.DataFrame(file_ls, columns=['image_path'])\n",
    "df['image_name'] = df['image_path'].apply(lambda x: os.path.basename(x))\n",
    "df['folder_name'] = df['image_path'].apply(lambda x: os.path.basename(os.path.dirname(x)))"
   ]
  },
  {
   "cell_type": "code",
   "execution_count": 60,
   "metadata": {},
   "outputs": [],
   "source": [
    "# make label encoding by folder name\n",
    "\n",
    "df['label'] = df['folder_name'].astype('category').cat.codes"
   ]
  },
  {
   "cell_type": "code",
   "execution_count": 49,
   "metadata": {},
   "outputs": [],
   "source": [
    "df.to_csv('/Users/iyongjeong/WORK/dacon/clf/data/train_csv/train_file_list.csv', index=False)"
   ]
  },
  {
   "cell_type": "code",
   "execution_count": 62,
   "metadata": {},
   "outputs": [],
   "source": [
    "df[:100].to_csv('/Users/iyongjeong/WORK/dacon/clf/data/train_csv/train_file_list_100.csv', index=False)"
   ]
  },
  {
   "cell_type": "code",
   "execution_count": null,
   "metadata": {},
   "outputs": [],
   "source": []
  },
  {
   "cell_type": "code",
   "execution_count": null,
   "metadata": {},
   "outputs": [],
   "source": []
  },
  {
   "cell_type": "code",
   "execution_count": null,
   "metadata": {},
   "outputs": [],
   "source": []
  },
  {
   "cell_type": "code",
   "execution_count": null,
   "metadata": {},
   "outputs": [],
   "source": []
  }
 ],
 "metadata": {
  "kernelspec": {
   "display_name": ".venv",
   "language": "python",
   "name": "python3"
  },
  "language_info": {
   "codemirror_mode": {
    "name": "ipython",
    "version": 3
   },
   "file_extension": ".py",
   "mimetype": "text/x-python",
   "name": "python",
   "nbconvert_exporter": "python",
   "pygments_lexer": "ipython3",
   "version": "3.12.0"
  }
 },
 "nbformat": 4,
 "nbformat_minor": 2
}
