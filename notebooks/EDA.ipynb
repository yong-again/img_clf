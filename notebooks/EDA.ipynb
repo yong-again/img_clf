{
 "cells": [
  {
   "cell_type": "code",
   "execution_count": 1,
   "metadata": {},
   "outputs": [],
   "source": [
    "import os\n",
    "import pandas as pd\n",
    "import numpy as np\n",
    "import matplotlib.pyplot as plt\n",
    "plt.rcParams['font.family'] = 'D2Coding' \n",
    "plt.rcParams['axes.unicode_minus'] = False \n",
    "\n",
    "import sys\n",
    "sys.path.append('../')\n",
    "from utils.util import get_parent_path"
   ]
  },
  {
   "cell_type": "code",
   "execution_count": null,
   "metadata": {},
   "outputs": [],
   "source": [
    "import matplotlib.font_manager as fm\n",
    "\n",
    "for font in fm.fontManager.ttflist:\n",
    "    print(f\"{font.name} : {font.fname}\")"
   ]
  },
  {
   "cell_type": "code",
   "execution_count": null,
   "metadata": {},
   "outputs": [],
   "source": [
    "print(get_parent_path())"
   ]
  },
  {
   "cell_type": "code",
   "execution_count": null,
   "metadata": {},
   "outputs": [],
   "source": [
    "data_dir = os.path.join(get_parent_path(), 'data', 'train')"
   ]
  },
  {
   "cell_type": "code",
   "execution_count": null,
   "metadata": {},
   "outputs": [],
   "source": [
    "data_dir"
   ]
  },
  {
   "cell_type": "code",
   "execution_count": null,
   "metadata": {},
   "outputs": [],
   "source": [
    "folder_ls = os.listdir(data_dir)\n",
    "folder_ls = sorted(folder_ls)\n",
    "print(len(folder_ls))"
   ]
  },
  {
   "cell_type": "code",
   "execution_count": null,
   "metadata": {},
   "outputs": [],
   "source": [
    "folder_ls_fl = [folder for folder in folder_ls if not folder.startswith('.')]"
   ]
  },
  {
   "cell_type": "code",
   "execution_count": null,
   "metadata": {},
   "outputs": [],
   "source": [
    "len(folder_ls_fl)"
   ]
  },
  {
   "cell_type": "code",
   "execution_count": null,
   "metadata": {},
   "outputs": [],
   "source": [
    "# make file list each folder\n",
    "\n",
    "file_ls = []\n",
    "for folder in folder_ls_fl:\n",
    "    folder_path = os.path.join(data_dir, folder)\n",
    "    file_ls += [os.path.join(folder_path, file) for file in os.listdir(folder_path)]"
   ]
  },
  {
   "cell_type": "code",
   "execution_count": null,
   "metadata": {},
   "outputs": [],
   "source": [
    "len(file_ls)"
   ]
  },
  {
   "cell_type": "code",
   "execution_count": null,
   "metadata": {},
   "outputs": [],
   "source": [
    "print(file_ls[:5])"
   ]
  },
  {
   "cell_type": "code",
   "execution_count": null,
   "metadata": {},
   "outputs": [],
   "source": [
    "file_ls = sorted(file_ls)"
   ]
  },
  {
   "cell_type": "code",
   "execution_count": null,
   "metadata": {},
   "outputs": [],
   "source": [
    "print(file_ls[:5])"
   ]
  },
  {
   "cell_type": "code",
   "execution_count": null,
   "metadata": {},
   "outputs": [],
   "source": [
    "df = pd.DataFrame(file_ls, columns=['image_path'])\n",
    "df['image_name'] = df['image_path'].apply(lambda x: os.path.basename(x))\n",
    "df['folder_name'] = df['image_path'].apply(lambda x: os.path.basename(os.path.dirname(x)))"
   ]
  },
  {
   "cell_type": "code",
   "execution_count": null,
   "metadata": {},
   "outputs": [],
   "source": [
    "df['label'] = df['folder_name'].astype('category')"
   ]
  },
  {
   "cell_type": "code",
   "execution_count": null,
   "metadata": {},
   "outputs": [],
   "source": [
    "unique_labels = sorted(df['label'].unique())\n",
    "label_to_index = {label: idx for idx, label in enumerate(unique_labels)}\n",
    "df['label_index'] = df['label'].map(label_to_index)\n",
    "\n",
    "\n",
    "print(\"총 클래스 수:\", len(unique_labels))\n",
    "print(df.head())\n",
    "df.to_csv('train_mapped.csv', index=False)"
   ]
  },
  {
   "cell_type": "code",
   "execution_count": null,
   "metadata": {},
   "outputs": [],
   "source": [
    "label_counts = df['label'].value_counts()\n",
    "\n",
    "# 상위/하위 클래스 시각화\n",
    "top_n = 50\n",
    "fig, ax = plt.subplots(figsize=(12, 6))\n",
    "label_counts.head(top_n).plot(kind='bar', ax=ax)\n",
    "ax.set_title(f'Top {top_n} Most Frequent Classes')\n",
    "ax.set_ylabel('Image Count')\n",
    "ax.set_xlabel('Class Label')\n",
    "plt.xticks(rotation=90)\n",
    "plt.tight_layout()\n",
    "plt.show()"
   ]
  },
  {
   "cell_type": "code",
   "execution_count": null,
   "metadata": {},
   "outputs": [],
   "source": [
    "label_counts = df['label'].value_counts()\n",
    "\n",
    "# 상위/하위 클래스 시각화\n",
    "top_n = 50\n",
    "fig, ax = plt.subplots(figsize=(12, 6))\n",
    "label_counts.tail(top_n).plot(kind='bar', ax=ax)\n",
    "ax.set_title(f'Top {top_n} Less Frequent Classes')\n",
    "ax.set_ylabel('Image Count')\n",
    "ax.set_xlabel('Class Label')\n",
    "plt.xticks(rotation=90)\n",
    "plt.tight_layout()\n",
    "plt.show()"
   ]
  },
  {
   "cell_type": "code",
   "execution_count": null,
   "metadata": {},
   "outputs": [],
   "source": [
    "data_frame_path = get_parent_path() / \"data\" /\"train_csv\" / \"train_mapped.csv\"\n",
    "origin = pd.read_csv(data_frame_path)"
   ]
  },
  {
   "cell_type": "code",
   "execution_count": null,
   "metadata": {},
   "outputs": [],
   "source": [
    "origin.head()"
   ]
  },
  {
   "cell_type": "code",
   "execution_count": null,
   "metadata": {},
   "outputs": [],
   "source": [
    "from sklearn.model_selection import train_test_split\n",
    "import torch\n",
    "\n",
    "df = origin.copy()\n",
    "train_df, val_df = train_test_split(df, test_size=0.2, stratify=df['label_index'], random_state=42)\n",
    "\n",
    "unique_labels = sorted(df['label'].unique())\n",
    "label_to_index = {label: idx for idx, label in enumerate(unique_labels)}\n",
    "\n",
    "train_df['label_index'] = train_df['label'].map(label_to_index)\n",
    "val_df['label_index'] = val_df['label'].map(label_to_index)\n",
    "\n",
    "class_counts = train_df['label_index'].value_counts().sort_index()\n",
    "print(class_counts)\n",
    "\n",
    "total = class_counts.sum()\n",
    "\n",
    "print(total)\n",
    "\n",
    "class_weights = [total / c for c in class_counts]\n",
    "print(class_weights)\n"
   ]
  },
  {
   "cell_type": "code",
   "execution_count": null,
   "metadata": {},
   "outputs": [],
   "source": [
    "y_train = train_df['label_index'].values\n",
    "num_clasees = len(np.unique(y_train))"
   ]
  },
  {
   "cell_type": "code",
   "execution_count": null,
   "metadata": {},
   "outputs": [],
   "source": [
    "from sklearn.utils.class_weight import compute_class_weight\n",
    "class_weight = compute_class_weight(class_weight='balanced', classes=np.arange(len(np.unique(train_df['label_index'].values))), y=train_df['label_index'].values)"
   ]
  },
  {
   "cell_type": "code",
   "execution_count": null,
   "metadata": {},
   "outputs": [],
   "source": [
    "print(len(class_weight))"
   ]
  },
  {
   "cell_type": "code",
   "execution_count": null,
   "metadata": {},
   "outputs": [],
   "source": [
    "# 전체 클래스 분포 히스토그램\n",
    "fig, ax = plt.subplots(figsize=(14, 6))\n",
    "class_counts.plot(kind='bar', ax=ax)\n",
    "ax.set_title('Class Distribution in Train Set (After Mapping)')\n",
    "ax.set_xlabel('Class Index')\n",
    "ax.set_ylabel('Number of Images')\n",
    "plt.tight_layout()\n",
    "plt.show()"
   ]
  },
  {
   "cell_type": "code",
   "execution_count": null,
   "metadata": {},
   "outputs": [],
   "source": [
    "min_class_index = class_counts.idxmin()\n",
    "min_class_count = class_counts[min_class_index]\n",
    "\n",
    "min_class_label = [label for label, idx in label_to_index.items() if idx == min_class_index]\n",
    "\n",
    "(min_class_index, min_class_label, min_class_count)"
   ]
  },
  {
   "cell_type": "code",
   "execution_count": null,
   "metadata": {},
   "outputs": [],
   "source": [
    "train_df = pd.read_csv('/Users/iyongjeong/WORK/dacon/img_clf/data/train_csv/train_mapped.csv')"
   ]
  },
  {
   "cell_type": "code",
   "execution_count": null,
   "metadata": {},
   "outputs": [],
   "source": [
    "train_df"
   ]
  },
  {
   "cell_type": "markdown",
   "metadata": {},
   "source": [
    "## Filtering Noise Data"
   ]
  },
  {
   "cell_type": "markdown",
   "metadata": {},
   "source": [
    "### Strategies\n",
    "\n",
    "- 1. Pseudo Labeling\n",
    "- 2. Imgae Quality Assessment\n",
    "- 3. Image Embedding\n",
    "- 4. Image Clustering\n",
    "- 5. Checking Manually"
   ]
  },
  {
   "cell_type": "code",
   "execution_count": 17,
   "metadata": {},
   "outputs": [],
   "source": [
    "import os\n",
    "from PIL import Image\n",
    "import cv2\n",
    "from pathlib import Path\n",
    "import matplotlib.pyplot as plt\n",
    "import pandas as pd\n",
    "import numpy as np\n",
    "plt.rcParams['font.family'] = 'D2Coding' \n",
    "plt.rcParams['axes.unicode_minus'] = False "
   ]
  },
  {
   "cell_type": "code",
   "execution_count": 18,
   "metadata": {},
   "outputs": [],
   "source": [
    "train_df = pd.read_csv(r'C:\\works\\dacon\\img_clf\\data\\train_csv\\train_mapped.csv')"
   ]
  },
  {
   "cell_type": "code",
   "execution_count": 19,
   "metadata": {},
   "outputs": [
    {
     "data": {
      "text/plain": [
       "0"
      ]
     },
     "execution_count": 19,
     "metadata": {},
     "output_type": "execute_result"
    }
   ],
   "source": [
    "train_df['label_index'].isna().sum()"
   ]
  },
  {
   "cell_type": "code",
   "execution_count": null,
   "metadata": {},
   "outputs": [],
   "source": [
    "iamge_stats = pd.read_csv(r'C:\\works\\dacon\\img_clf\\data\\image_stats.csv')"
   ]
  },
  {
   "cell_type": "code",
   "execution_count": null,
   "metadata": {},
   "outputs": [],
   "source": [
    "iamge_stats.describe()"
   ]
  },
  {
   "cell_type": "code",
   "execution_count": null,
   "metadata": {},
   "outputs": [],
   "source": [
    "iamge_stats.loc[iamge_stats['mean_brightness'] < 60]"
   ]
  },
  {
   "cell_type": "code",
   "execution_count": null,
   "metadata": {},
   "outputs": [],
   "source": [
    "train_df"
   ]
  },
  {
   "cell_type": "code",
   "execution_count": null,
   "metadata": {},
   "outputs": [],
   "source": [
    "# make image path dict in train df\n",
    "image_dict = {os.path.basename(path): path for path in train_df['image_path'].values}"
   ]
  },
  {
   "cell_type": "code",
   "execution_count": null,
   "metadata": {},
   "outputs": [],
   "source": [
    "# mapping image path in image_stats df\n",
    "\n",
    "iamge_stats['image_path'] = iamge_stats['image_name'].map(image_dict)"
   ]
  },
  {
   "cell_type": "code",
   "execution_count": null,
   "metadata": {},
   "outputs": [],
   "source": [
    "iamge_stats.head()"
   ]
  },
  {
   "cell_type": "code",
   "execution_count": null,
   "metadata": {},
   "outputs": [],
   "source": [
    "# mean brightness가 60 이하인 이미지 출력\n",
    "for index, row in iamge_stats[iamge_stats['mean_brightness'] < 60].iterrows():\n",
    "    img_path = row['image_path']\n",
    "    stream = np.fromfile(img_path, dtype=np.uint8)\n",
    "    image = cv2.imdecode(stream, cv2.IMREAD_COLOR)\n",
    "    if image is not None:\n",
    "        plt.imshow(cv2.cvtColor(image, cv2.COLOR_BGR2RGB))\n",
    "        plt.title(f\"Image: {row['image_name']}, Brightness: {row['mean_brightness']:.2f}\")\n",
    "        plt.axis('off')\n",
    "        plt.show()\n",
    "    else:\n",
    "        print(f\"Could not read image at {img_path}\")"
   ]
  },
  {
   "cell_type": "code",
   "execution_count": null,
   "metadata": {},
   "outputs": [],
   "source": []
  },
  {
   "cell_type": "code",
   "execution_count": null,
   "metadata": {},
   "outputs": [],
   "source": [
    "# blur scores\n",
    "for index, row in iamge_stats[iamge_stats['blur_score'] > 15000].iterrows():\n",
    "    img_path = row['image_path']\n",
    "    stream = np.fromfile(img_path, dtype=np.uint8)\n",
    "    img = cv2.imdecode(stream, cv2.IMREAD_COLOR)\n",
    "    if img is not None:\n",
    "        plt.imshow(cv2.cvtColor(img, cv2.COLOR_BGR2RGB))\n",
    "        plt.title(f\"Image: {row['image_name']}, Brightness: {row['blur_score']:.2f}\")\n",
    "        plt.axis('off')\n",
    "        plt.show()\n",
    "    else:\n",
    "        print(f\"Could not read image at {img_path}\")"
   ]
  },
  {
   "cell_type": "code",
   "execution_count": null,
   "metadata": {},
   "outputs": [],
   "source": [
    "# blur scores\n",
    "for index, row in iamge_stats[iamge_stats['exposure'] < 50].iterrows():\n",
    "    img_path = row['image_path']\n",
    "    stream = np.fromfile(img_path, dtype=np.uint8)\n",
    "    img = cv2.imdecode(stream, cv2.IMREAD_COLOR)\n",
    "    if img is not None:\n",
    "        plt.imshow(cv2.cvtColor(img, cv2.COLOR_BGR2RGB))\n",
    "        plt.title(f\"Image: {row['image_name']}, exposure: {row['exposure']:.2f}\")\n",
    "        plt.axis('off')\n",
    "        plt.show()\n",
    "    else:\n",
    "        print(f\"Could not read image at {img_path}\")"
   ]
  },
  {
   "cell_type": "code",
   "execution_count": null,
   "metadata": {},
   "outputs": [],
   "source": []
  },
  {
   "cell_type": "markdown",
   "metadata": {},
   "source": [
    "## 1. Pseudo Labeling"
   ]
  },
  {
   "cell_type": "code",
   "execution_count": null,
   "metadata": {},
   "outputs": [],
   "source": []
  },
  {
   "cell_type": "code",
   "execution_count": null,
   "metadata": {},
   "outputs": [],
   "source": []
  },
  {
   "cell_type": "code",
   "execution_count": null,
   "metadata": {},
   "outputs": [],
   "source": []
  },
  {
   "cell_type": "code",
   "execution_count": null,
   "metadata": {},
   "outputs": [],
   "source": []
  },
  {
   "cell_type": "code",
   "execution_count": null,
   "metadata": {},
   "outputs": [],
   "source": []
  },
  {
   "cell_type": "code",
   "execution_count": null,
   "metadata": {},
   "outputs": [],
   "source": []
  },
  {
   "cell_type": "code",
   "execution_count": null,
   "metadata": {},
   "outputs": [],
   "source": []
  },
  {
   "cell_type": "code",
   "execution_count": null,
   "metadata": {},
   "outputs": [],
   "source": []
  },
  {
   "cell_type": "code",
   "execution_count": null,
   "metadata": {},
   "outputs": [],
   "source": []
  },
  {
   "cell_type": "code",
   "execution_count": null,
   "metadata": {},
   "outputs": [],
   "source": []
  },
  {
   "cell_type": "code",
   "execution_count": null,
   "metadata": {},
   "outputs": [],
   "source": []
  },
  {
   "cell_type": "code",
   "execution_count": null,
   "metadata": {},
   "outputs": [],
   "source": []
  },
  {
   "cell_type": "code",
   "execution_count": null,
   "metadata": {},
   "outputs": [],
   "source": []
  },
  {
   "cell_type": "code",
   "execution_count": null,
   "metadata": {},
   "outputs": [],
   "source": []
  },
  {
   "cell_type": "code",
   "execution_count": null,
   "metadata": {},
   "outputs": [],
   "source": []
  },
  {
   "cell_type": "code",
   "execution_count": null,
   "metadata": {},
   "outputs": [],
   "source": []
  },
  {
   "cell_type": "markdown",
   "metadata": {},
   "source": [
    "## 2.Image Quality Assessment"
   ]
  },
  {
   "cell_type": "code",
   "execution_count": null,
   "metadata": {},
   "outputs": [],
   "source": []
  },
  {
   "cell_type": "code",
   "execution_count": null,
   "metadata": {},
   "outputs": [],
   "source": []
  },
  {
   "cell_type": "code",
   "execution_count": null,
   "metadata": {},
   "outputs": [],
   "source": []
  },
  {
   "cell_type": "code",
   "execution_count": null,
   "metadata": {},
   "outputs": [],
   "source": []
  },
  {
   "cell_type": "code",
   "execution_count": null,
   "metadata": {},
   "outputs": [],
   "source": []
  },
  {
   "cell_type": "code",
   "execution_count": null,
   "metadata": {},
   "outputs": [],
   "source": []
  },
  {
   "cell_type": "code",
   "execution_count": null,
   "metadata": {},
   "outputs": [],
   "source": []
  },
  {
   "cell_type": "code",
   "execution_count": null,
   "metadata": {},
   "outputs": [],
   "source": []
  },
  {
   "cell_type": "code",
   "execution_count": null,
   "metadata": {},
   "outputs": [],
   "source": []
  },
  {
   "cell_type": "code",
   "execution_count": null,
   "metadata": {},
   "outputs": [],
   "source": []
  },
  {
   "cell_type": "markdown",
   "metadata": {},
   "source": [
    "## 3. Image Embedding"
   ]
  },
  {
   "cell_type": "markdown",
   "metadata": {},
   "source": [
    "## 4. Image clustering"
   ]
  },
  {
   "cell_type": "markdown",
   "metadata": {},
   "source": [
    "## 5. Checking manually"
   ]
  },
  {
   "cell_type": "code",
   "execution_count": 8,
   "metadata": {},
   "outputs": [],
   "source": [
    "train_df = pd.read_csv('/workspace/img_clf/data/train_csv/train_mapped_2.csv')"
   ]
  },
  {
   "cell_type": "code",
   "execution_count": 9,
   "metadata": {},
   "outputs": [
    {
     "data": {
      "text/html": [
       "<div>\n",
       "<style scoped>\n",
       "    .dataframe tbody tr th:only-of-type {\n",
       "        vertical-align: middle;\n",
       "    }\n",
       "\n",
       "    .dataframe tbody tr th {\n",
       "        vertical-align: top;\n",
       "    }\n",
       "\n",
       "    .dataframe thead th {\n",
       "        text-align: right;\n",
       "    }\n",
       "</style>\n",
       "<table border=\"1\" class=\"dataframe\">\n",
       "  <thead>\n",
       "    <tr style=\"text-align: right;\">\n",
       "      <th></th>\n",
       "      <th>image_path</th>\n",
       "      <th>image_name</th>\n",
       "      <th>folder_name</th>\n",
       "      <th>label</th>\n",
       "      <th>label_index</th>\n",
       "    </tr>\n",
       "  </thead>\n",
       "  <tbody>\n",
       "    <tr>\n",
       "      <th>0</th>\n",
       "      <td>C:\\works\\dacon\\img_clf\\data\\train\\1시리즈_F20_201...</td>\n",
       "      <td>1시리즈_F20_2013_2015_0000.jpg</td>\n",
       "      <td>1시리즈_F20_2013_2015</td>\n",
       "      <td>1시리즈_F20_2013_2015</td>\n",
       "      <td>0</td>\n",
       "    </tr>\n",
       "    <tr>\n",
       "      <th>1</th>\n",
       "      <td>C:\\works\\dacon\\img_clf\\data\\train\\1시리즈_F20_201...</td>\n",
       "      <td>1시리즈_F20_2013_2015_0001.jpg</td>\n",
       "      <td>1시리즈_F20_2013_2015</td>\n",
       "      <td>1시리즈_F20_2013_2015</td>\n",
       "      <td>0</td>\n",
       "    </tr>\n",
       "    <tr>\n",
       "      <th>2</th>\n",
       "      <td>C:\\works\\dacon\\img_clf\\data\\train\\1시리즈_F20_201...</td>\n",
       "      <td>1시리즈_F20_2013_2015_0002.jpg</td>\n",
       "      <td>1시리즈_F20_2013_2015</td>\n",
       "      <td>1시리즈_F20_2013_2015</td>\n",
       "      <td>0</td>\n",
       "    </tr>\n",
       "    <tr>\n",
       "      <th>3</th>\n",
       "      <td>C:\\works\\dacon\\img_clf\\data\\train\\1시리즈_F20_201...</td>\n",
       "      <td>1시리즈_F20_2013_2015_0003.jpg</td>\n",
       "      <td>1시리즈_F20_2013_2015</td>\n",
       "      <td>1시리즈_F20_2013_2015</td>\n",
       "      <td>0</td>\n",
       "    </tr>\n",
       "    <tr>\n",
       "      <th>4</th>\n",
       "      <td>C:\\works\\dacon\\img_clf\\data\\train\\1시리즈_F20_201...</td>\n",
       "      <td>1시리즈_F20_2013_2015_0004.jpg</td>\n",
       "      <td>1시리즈_F20_2013_2015</td>\n",
       "      <td>1시리즈_F20_2013_2015</td>\n",
       "      <td>0</td>\n",
       "    </tr>\n",
       "    <tr>\n",
       "      <th>...</th>\n",
       "      <td>...</td>\n",
       "      <td>...</td>\n",
       "      <td>...</td>\n",
       "      <td>...</td>\n",
       "      <td>...</td>\n",
       "    </tr>\n",
       "    <tr>\n",
       "      <th>32758</th>\n",
       "      <td>C:\\works\\dacon\\img_clf\\data\\train\\프리우스_C_2018_...</td>\n",
       "      <td>프리우스_C_2018_2020_0081.jpg</td>\n",
       "      <td>프리우스_C_2018_2020</td>\n",
       "      <td>프리우스_C_2018_2020</td>\n",
       "      <td>395</td>\n",
       "    </tr>\n",
       "    <tr>\n",
       "      <th>32759</th>\n",
       "      <td>C:\\works\\dacon\\img_clf\\data\\train\\프리우스_C_2018_...</td>\n",
       "      <td>프리우스_C_2018_2020_0082.jpg</td>\n",
       "      <td>프리우스_C_2018_2020</td>\n",
       "      <td>프리우스_C_2018_2020</td>\n",
       "      <td>395</td>\n",
       "    </tr>\n",
       "    <tr>\n",
       "      <th>32760</th>\n",
       "      <td>C:\\works\\dacon\\img_clf\\data\\train\\프리우스_C_2018_...</td>\n",
       "      <td>프리우스_C_2018_2020_0083.jpg</td>\n",
       "      <td>프리우스_C_2018_2020</td>\n",
       "      <td>프리우스_C_2018_2020</td>\n",
       "      <td>395</td>\n",
       "    </tr>\n",
       "    <tr>\n",
       "      <th>32761</th>\n",
       "      <td>C:\\works\\dacon\\img_clf\\data\\train\\프리우스_C_2018_...</td>\n",
       "      <td>프리우스_C_2018_2020_0084.jpg</td>\n",
       "      <td>프리우스_C_2018_2020</td>\n",
       "      <td>프리우스_C_2018_2020</td>\n",
       "      <td>395</td>\n",
       "    </tr>\n",
       "    <tr>\n",
       "      <th>32762</th>\n",
       "      <td>C:\\works\\dacon\\img_clf\\data\\train\\프리우스_C_2018_...</td>\n",
       "      <td>프리우스_C_2018_2020_0085.jpg</td>\n",
       "      <td>프리우스_C_2018_2020</td>\n",
       "      <td>프리우스_C_2018_2020</td>\n",
       "      <td>395</td>\n",
       "    </tr>\n",
       "  </tbody>\n",
       "</table>\n",
       "<p>32763 rows × 5 columns</p>\n",
       "</div>"
      ],
      "text/plain": [
       "                                              image_path  \\\n",
       "0      C:\\works\\dacon\\img_clf\\data\\train\\1시리즈_F20_201...   \n",
       "1      C:\\works\\dacon\\img_clf\\data\\train\\1시리즈_F20_201...   \n",
       "2      C:\\works\\dacon\\img_clf\\data\\train\\1시리즈_F20_201...   \n",
       "3      C:\\works\\dacon\\img_clf\\data\\train\\1시리즈_F20_201...   \n",
       "4      C:\\works\\dacon\\img_clf\\data\\train\\1시리즈_F20_201...   \n",
       "...                                                  ...   \n",
       "32758  C:\\works\\dacon\\img_clf\\data\\train\\프리우스_C_2018_...   \n",
       "32759  C:\\works\\dacon\\img_clf\\data\\train\\프리우스_C_2018_...   \n",
       "32760  C:\\works\\dacon\\img_clf\\data\\train\\프리우스_C_2018_...   \n",
       "32761  C:\\works\\dacon\\img_clf\\data\\train\\프리우스_C_2018_...   \n",
       "32762  C:\\works\\dacon\\img_clf\\data\\train\\프리우스_C_2018_...   \n",
       "\n",
       "                        image_name         folder_name               label  \\\n",
       "0      1시리즈_F20_2013_2015_0000.jpg  1시리즈_F20_2013_2015  1시리즈_F20_2013_2015   \n",
       "1      1시리즈_F20_2013_2015_0001.jpg  1시리즈_F20_2013_2015  1시리즈_F20_2013_2015   \n",
       "2      1시리즈_F20_2013_2015_0002.jpg  1시리즈_F20_2013_2015  1시리즈_F20_2013_2015   \n",
       "3      1시리즈_F20_2013_2015_0003.jpg  1시리즈_F20_2013_2015  1시리즈_F20_2013_2015   \n",
       "4      1시리즈_F20_2013_2015_0004.jpg  1시리즈_F20_2013_2015  1시리즈_F20_2013_2015   \n",
       "...                            ...                 ...                 ...   \n",
       "32758    프리우스_C_2018_2020_0081.jpg    프리우스_C_2018_2020    프리우스_C_2018_2020   \n",
       "32759    프리우스_C_2018_2020_0082.jpg    프리우스_C_2018_2020    프리우스_C_2018_2020   \n",
       "32760    프리우스_C_2018_2020_0083.jpg    프리우스_C_2018_2020    프리우스_C_2018_2020   \n",
       "32761    프리우스_C_2018_2020_0084.jpg    프리우스_C_2018_2020    프리우스_C_2018_2020   \n",
       "32762    프리우스_C_2018_2020_0085.jpg    프리우스_C_2018_2020    프리우스_C_2018_2020   \n",
       "\n",
       "       label_index  \n",
       "0                0  \n",
       "1                0  \n",
       "2                0  \n",
       "3                0  \n",
       "4                0  \n",
       "...            ...  \n",
       "32758          395  \n",
       "32759          395  \n",
       "32760          395  \n",
       "32761          395  \n",
       "32762          395  \n",
       "\n",
       "[32763 rows x 5 columns]"
      ]
     },
     "execution_count": 9,
     "metadata": {},
     "output_type": "execute_result"
    }
   ],
   "source": [
    "train_df"
   ]
  },
  {
   "cell_type": "code",
   "execution_count": null,
   "metadata": {},
   "outputs": [],
   "source": []
  },
  {
   "cell_type": "code",
   "execution_count": 6,
   "metadata": {},
   "outputs": [],
   "source": [
    "import os\n",
    "import shutil\n",
    "\n",
    "# 파일 이름 리스트\n",
    "file_names = [\n",
    "    \"5시리즈_G60_2024_2025_0010.jpg\",\n",
    "    \"6시리즈_GT_G32_2018_2020_0018.jpg\",\n",
    "    \"7시리즈_G11_2016_2018_0040.jpg\",\n",
    "    \"911_992_2020_2024_0030.jpg\",\n",
    "    \"E_클래스_W212_2010_2016_0022.jpg\",\n",
    "    \"K5_2세대_2016_2018_0007.jpg\",\n",
    "    \"F150_2004_2021_0018.jpg\",\n",
    "    \"G_클래스_W463b_2019_2025_0030.jpg\",\n",
    "    \"GLE_클래스_W167_2019_2024_0068.jpg\",\n",
    "    \"Q5_FY_2021_2024_0032.jpg\",\n",
    "    \"Q30_2017_2019_0075.jpg\",\n",
    "    \"Q50_2014_2017_0031.jpg\",\n",
    "    \"SM7_뉴아트_2008_2011_0053.jpg\",\n",
    "    \"X3_G01_2022_2024_0029.jpg\",\n",
    "    \"XF_X260_2016_2020_0023.jpg\",\n",
    "    \"뉴_ES300h_2013_2015_0000.jpg\",\n",
    "    \"뉴_G80_2025_2026_0042.jpg\",\n",
    "    \"뉴_G80_2025_2026_0043.jpg\",\n",
    "    \"뉴_SM5_임프레션_2008_2010_0033.jpg\",\n",
    "    \"더_기아_레이_EV_2024_2025_0078.jpg\",\n",
    "    \"더_뉴_K3_2세대_2022_2024_0001.jpg\",\n",
    "    \"더_뉴_그랜드_스타렉스_2018_2021_0078.jpg\",\n",
    "    \"더_뉴_그랜드_스타렉스_2018_2021_0079.jpg\",\n",
    "    \"더_뉴_그랜드_스타렉스_2018_2021_0080.jpg\",\n",
    "    \"더_뉴_아반떼_2014_2016_0031.jpg\",\n",
    "    \"더_뉴_파사트_2012_2019_0067.jpg\",\n",
    "    \"레니게이드_2019_2023_0041.jpg\",\n",
    "    \"박스터_718_2017_2024_0011.jpg\",\n",
    "    \"싼타페_TM_2019_2020_0009.jpg\",\n",
    "    \"아반떼_MD_2011_2014_0081.jpg\",\n",
    "    \"아반떼_N_2022_2023_0064.jpg\",\n",
    "    \"익스플로러_2016_2017_0072.jpg\",\n",
    "    \"콰트로포르테_2017_2022_0074.jpg\",\n",
    "    \"프리우스_4세대_2019_2022_0052.jpg\",\n",
    "    \"아반떼_N_2022_2023_0035.jpg\"\n",
    "]"
   ]
  },
  {
   "cell_type": "code",
   "execution_count": 16,
   "metadata": {},
   "outputs": [],
   "source": [
    "file_list = [\n",
    "    \"E_클래스_W212_2010_2016_0069.jpg\",\n",
    "    \"ES300h_7세대_2019_2026_0028.jpg\",\n",
    "    \"G_클래스_W463_2009_2017_0011.jpg\",\n",
    "    \"GLB_클래스_X247_2020_2023_0008.jpg\",\n",
    "    \"GLS_클래스_X167_2020_2024_0013.jpg\",\n",
    "    \"K3_2013_2015_0045.jpg\",\n",
    "    \"K5_3세대_2020_2023_0081.jpg\",\n",
    "    \"Q7_4M_2020_2023_0011.jpg\",\n",
    "    \"RAV4_5세대_2019_2024_0020.jpg\",\n",
    "    \"S_클래스_W223_2021_2025_0008.jpg\",\n",
    "    \"S_클래스_W223_2021_2025_0071.jpg\",\n",
    "    \"X4_F26_2015_2018_0068.jpg\",\n",
    "    \"그랜드_체로키_WL_2021_2023_0018.jpg\",\n",
    "    \"레이_2012_2017_0063.jpg\",\n",
    "    \"레인지로버_5세대_2023_2024_0030.jpg\",\n",
    "    \"레인지로버_스포츠_2세대_2018_2022_0014.jpg\",\n",
    "    \"레인지로버_스포츠_2세대_2018_2022_0017.jpg\",\n",
    "    \"마칸_2019_2021_0035.jpg\",\n",
    "    \"머스탱_2015_2023_0086.jpg\",\n",
    "    \"아반떼_MD_2011_2014_0009.jpg\",\n",
    "    \"아반떼_MD_2011_2014_0082.jpg\",\n",
    "    \"컨티넨탈_GT_3세대_2018_2023_0007.jpg\",\n",
    "    \"타이칸_2021_2025_0065.jpg\",\n",
    "    \"파나메라_2010_2016_0000.jpg\",\n",
    "    \"파나메라_2010_2016_0036.jpg\",\n",
    "    \"3시리즈_F30_2013_2018_0036.jpg\",\n",
    "    \"4시리즈_F32_2014_2020_0027.jpg\",\n",
    "    \"5시리즈_G60_2024_2025_0056.jpg\",\n",
    "    \"7시리즈_F01_2009_2015_0029.jpg\",\n",
    "    \"7시리즈_F01_2009_2015_0044.jpg\",\n",
    "    \"911_992_2020_2024_0006.jpg\",\n",
    "    \"C_클래스_W204_2008_2015_0068.jpg\",\n",
    "    \"CLS_클래스_C257_2019_2023_0021.jpg\"\n",
    "]"
   ]
  },
  {
   "cell_type": "code",
   "execution_count": 20,
   "metadata": {},
   "outputs": [],
   "source": [
    "file_list_2 = [\n",
    "    \"Q30_2017_2019_0074.jpg\",\n",
    "    \"글래디에이터_JT_2020_2023_0075.jpg\",\n",
    "    \"뉴_CC_2012_2016_0001.jpg\",\n",
    "    \"뉴_CC_2012_2016_0002.jpg\",\n",
    "    \"더_뉴_코나_2021_2023_0081.jpg\",\n",
    "    \"2시리즈_액티브_투어러_U06_2022_2024_0004.jpg\",\n",
    "    \"A8_D5_2018_2023_0084.jpg\"\n",
    "]"
   ]
  },
  {
   "cell_type": "code",
   "execution_count": 11,
   "metadata": {},
   "outputs": [
    {
     "data": {
      "text/plain": [
       "35"
      ]
     },
     "execution_count": 11,
     "metadata": {},
     "output_type": "execute_result"
    }
   ],
   "source": [
    "len(file_names)"
   ]
  },
  {
   "cell_type": "code",
   "execution_count": 23,
   "metadata": {},
   "outputs": [],
   "source": [
    "filter_df = train_df.loc[~(train_df['image_name'].isin(file_names))]"
   ]
  },
  {
   "cell_type": "code",
   "execution_count": 24,
   "metadata": {},
   "outputs": [],
   "source": [
    "filter_filter_Df= filter_df.loc[~(filter_df['image_name'].isin(file_list))]"
   ]
  },
  {
   "cell_type": "code",
   "execution_count": 25,
   "metadata": {},
   "outputs": [
    {
     "data": {
      "text/plain": [
       "32719"
      ]
     },
     "execution_count": 25,
     "metadata": {},
     "output_type": "execute_result"
    }
   ],
   "source": [
    "len(filter_filter_Df)"
   ]
  },
  {
   "cell_type": "code",
   "execution_count": 26,
   "metadata": {},
   "outputs": [],
   "source": [
    "noise_filter_df = filter_filter_Df.loc[~(filter_filter_Df['image_name'].isin(file_list_2))]"
   ]
  },
  {
   "cell_type": "code",
   "execution_count": 27,
   "metadata": {},
   "outputs": [
    {
     "data": {
      "text/html": [
       "<div>\n",
       "<style scoped>\n",
       "    .dataframe tbody tr th:only-of-type {\n",
       "        vertical-align: middle;\n",
       "    }\n",
       "\n",
       "    .dataframe tbody tr th {\n",
       "        vertical-align: top;\n",
       "    }\n",
       "\n",
       "    .dataframe thead th {\n",
       "        text-align: right;\n",
       "    }\n",
       "</style>\n",
       "<table border=\"1\" class=\"dataframe\">\n",
       "  <thead>\n",
       "    <tr style=\"text-align: right;\">\n",
       "      <th></th>\n",
       "      <th>image_path</th>\n",
       "      <th>image_name</th>\n",
       "      <th>folder_name</th>\n",
       "      <th>label</th>\n",
       "      <th>label_index</th>\n",
       "    </tr>\n",
       "  </thead>\n",
       "  <tbody>\n",
       "    <tr>\n",
       "      <th>0</th>\n",
       "      <td>C:\\works\\dacon\\img_clf\\data\\train\\1시리즈_F20_201...</td>\n",
       "      <td>1시리즈_F20_2013_2015_0000.jpg</td>\n",
       "      <td>1시리즈_F20_2013_2015</td>\n",
       "      <td>1시리즈_F20_2013_2015</td>\n",
       "      <td>0</td>\n",
       "    </tr>\n",
       "    <tr>\n",
       "      <th>1</th>\n",
       "      <td>C:\\works\\dacon\\img_clf\\data\\train\\1시리즈_F20_201...</td>\n",
       "      <td>1시리즈_F20_2013_2015_0001.jpg</td>\n",
       "      <td>1시리즈_F20_2013_2015</td>\n",
       "      <td>1시리즈_F20_2013_2015</td>\n",
       "      <td>0</td>\n",
       "    </tr>\n",
       "    <tr>\n",
       "      <th>2</th>\n",
       "      <td>C:\\works\\dacon\\img_clf\\data\\train\\1시리즈_F20_201...</td>\n",
       "      <td>1시리즈_F20_2013_2015_0002.jpg</td>\n",
       "      <td>1시리즈_F20_2013_2015</td>\n",
       "      <td>1시리즈_F20_2013_2015</td>\n",
       "      <td>0</td>\n",
       "    </tr>\n",
       "    <tr>\n",
       "      <th>3</th>\n",
       "      <td>C:\\works\\dacon\\img_clf\\data\\train\\1시리즈_F20_201...</td>\n",
       "      <td>1시리즈_F20_2013_2015_0003.jpg</td>\n",
       "      <td>1시리즈_F20_2013_2015</td>\n",
       "      <td>1시리즈_F20_2013_2015</td>\n",
       "      <td>0</td>\n",
       "    </tr>\n",
       "    <tr>\n",
       "      <th>4</th>\n",
       "      <td>C:\\works\\dacon\\img_clf\\data\\train\\1시리즈_F20_201...</td>\n",
       "      <td>1시리즈_F20_2013_2015_0004.jpg</td>\n",
       "      <td>1시리즈_F20_2013_2015</td>\n",
       "      <td>1시리즈_F20_2013_2015</td>\n",
       "      <td>0</td>\n",
       "    </tr>\n",
       "    <tr>\n",
       "      <th>...</th>\n",
       "      <td>...</td>\n",
       "      <td>...</td>\n",
       "      <td>...</td>\n",
       "      <td>...</td>\n",
       "      <td>...</td>\n",
       "    </tr>\n",
       "    <tr>\n",
       "      <th>32758</th>\n",
       "      <td>C:\\works\\dacon\\img_clf\\data\\train\\프리우스_C_2018_...</td>\n",
       "      <td>프리우스_C_2018_2020_0081.jpg</td>\n",
       "      <td>프리우스_C_2018_2020</td>\n",
       "      <td>프리우스_C_2018_2020</td>\n",
       "      <td>395</td>\n",
       "    </tr>\n",
       "    <tr>\n",
       "      <th>32759</th>\n",
       "      <td>C:\\works\\dacon\\img_clf\\data\\train\\프리우스_C_2018_...</td>\n",
       "      <td>프리우스_C_2018_2020_0082.jpg</td>\n",
       "      <td>프리우스_C_2018_2020</td>\n",
       "      <td>프리우스_C_2018_2020</td>\n",
       "      <td>395</td>\n",
       "    </tr>\n",
       "    <tr>\n",
       "      <th>32760</th>\n",
       "      <td>C:\\works\\dacon\\img_clf\\data\\train\\프리우스_C_2018_...</td>\n",
       "      <td>프리우스_C_2018_2020_0083.jpg</td>\n",
       "      <td>프리우스_C_2018_2020</td>\n",
       "      <td>프리우스_C_2018_2020</td>\n",
       "      <td>395</td>\n",
       "    </tr>\n",
       "    <tr>\n",
       "      <th>32761</th>\n",
       "      <td>C:\\works\\dacon\\img_clf\\data\\train\\프리우스_C_2018_...</td>\n",
       "      <td>프리우스_C_2018_2020_0084.jpg</td>\n",
       "      <td>프리우스_C_2018_2020</td>\n",
       "      <td>프리우스_C_2018_2020</td>\n",
       "      <td>395</td>\n",
       "    </tr>\n",
       "    <tr>\n",
       "      <th>32762</th>\n",
       "      <td>C:\\works\\dacon\\img_clf\\data\\train\\프리우스_C_2018_...</td>\n",
       "      <td>프리우스_C_2018_2020_0085.jpg</td>\n",
       "      <td>프리우스_C_2018_2020</td>\n",
       "      <td>프리우스_C_2018_2020</td>\n",
       "      <td>395</td>\n",
       "    </tr>\n",
       "  </tbody>\n",
       "</table>\n",
       "<p>32712 rows × 5 columns</p>\n",
       "</div>"
      ],
      "text/plain": [
       "                                              image_path  \\\n",
       "0      C:\\works\\dacon\\img_clf\\data\\train\\1시리즈_F20_201...   \n",
       "1      C:\\works\\dacon\\img_clf\\data\\train\\1시리즈_F20_201...   \n",
       "2      C:\\works\\dacon\\img_clf\\data\\train\\1시리즈_F20_201...   \n",
       "3      C:\\works\\dacon\\img_clf\\data\\train\\1시리즈_F20_201...   \n",
       "4      C:\\works\\dacon\\img_clf\\data\\train\\1시리즈_F20_201...   \n",
       "...                                                  ...   \n",
       "32758  C:\\works\\dacon\\img_clf\\data\\train\\프리우스_C_2018_...   \n",
       "32759  C:\\works\\dacon\\img_clf\\data\\train\\프리우스_C_2018_...   \n",
       "32760  C:\\works\\dacon\\img_clf\\data\\train\\프리우스_C_2018_...   \n",
       "32761  C:\\works\\dacon\\img_clf\\data\\train\\프리우스_C_2018_...   \n",
       "32762  C:\\works\\dacon\\img_clf\\data\\train\\프리우스_C_2018_...   \n",
       "\n",
       "                        image_name         folder_name               label  \\\n",
       "0      1시리즈_F20_2013_2015_0000.jpg  1시리즈_F20_2013_2015  1시리즈_F20_2013_2015   \n",
       "1      1시리즈_F20_2013_2015_0001.jpg  1시리즈_F20_2013_2015  1시리즈_F20_2013_2015   \n",
       "2      1시리즈_F20_2013_2015_0002.jpg  1시리즈_F20_2013_2015  1시리즈_F20_2013_2015   \n",
       "3      1시리즈_F20_2013_2015_0003.jpg  1시리즈_F20_2013_2015  1시리즈_F20_2013_2015   \n",
       "4      1시리즈_F20_2013_2015_0004.jpg  1시리즈_F20_2013_2015  1시리즈_F20_2013_2015   \n",
       "...                            ...                 ...                 ...   \n",
       "32758    프리우스_C_2018_2020_0081.jpg    프리우스_C_2018_2020    프리우스_C_2018_2020   \n",
       "32759    프리우스_C_2018_2020_0082.jpg    프리우스_C_2018_2020    프리우스_C_2018_2020   \n",
       "32760    프리우스_C_2018_2020_0083.jpg    프리우스_C_2018_2020    프리우스_C_2018_2020   \n",
       "32761    프리우스_C_2018_2020_0084.jpg    프리우스_C_2018_2020    프리우스_C_2018_2020   \n",
       "32762    프리우스_C_2018_2020_0085.jpg    프리우스_C_2018_2020    프리우스_C_2018_2020   \n",
       "\n",
       "       label_index  \n",
       "0                0  \n",
       "1                0  \n",
       "2                0  \n",
       "3                0  \n",
       "4                0  \n",
       "...            ...  \n",
       "32758          395  \n",
       "32759          395  \n",
       "32760          395  \n",
       "32761          395  \n",
       "32762          395  \n",
       "\n",
       "[32712 rows x 5 columns]"
      ]
     },
     "execution_count": 27,
     "metadata": {},
     "output_type": "execute_result"
    }
   ],
   "source": [
    "noise_filter_df"
   ]
  },
  {
   "cell_type": "code",
   "execution_count": 29,
   "metadata": {},
   "outputs": [],
   "source": [
    "noise_filter_df.to_csv('/workspace/img_clf/data/train_csv/train_mapped_3.csv', index=False)"
   ]
  },
  {
   "cell_type": "code",
   "execution_count": null,
   "metadata": {},
   "outputs": [],
   "source": []
  },
  {
   "cell_type": "code",
   "execution_count": null,
   "metadata": {},
   "outputs": [],
   "source": []
  },
  {
   "cell_type": "code",
   "execution_count": null,
   "metadata": {},
   "outputs": [],
   "source": []
  },
  {
   "cell_type": "code",
   "execution_count": null,
   "metadata": {},
   "outputs": [],
   "source": []
  }
 ],
 "metadata": {
  "kernelspec": {
   "display_name": ".venv",
   "language": "python",
   "name": "python3"
  },
  "language_info": {
   "codemirror_mode": {
    "name": "ipython",
    "version": 3
   },
   "file_extension": ".py",
   "mimetype": "text/x-python",
   "name": "python",
   "nbconvert_exporter": "python",
   "pygments_lexer": "ipython3",
   "version": "3.12.3"
  }
 },
 "nbformat": 4,
 "nbformat_minor": 2
}
