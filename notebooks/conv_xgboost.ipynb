{
 "cells": [
  {
   "cell_type": "code",
   "id": "initial_id",
   "metadata": {
    "collapsed": true,
    "ExecuteTime": {
     "end_time": "2025-06-24T08:32:11.022216Z",
     "start_time": "2025-06-24T08:32:07.096256Z"
    }
   },
   "source": [
    "import torch\n",
    "import sys\n",
    "import json\n",
    "import torch.nn as nn\n",
    "sys.path.append('..')\n",
    "from model.model import CustomConvNextClassifier"
   ],
   "outputs": [],
   "execution_count": 1
  },
  {
   "cell_type": "code",
   "id": "a4153b1a",
   "metadata": {
    "ExecuteTime": {
     "end_time": "2025-06-24T08:32:11.164223Z",
     "start_time": "2025-06-24T08:32:11.029254Z"
    }
   },
   "source": [
    "device = torch.device(\"cuda\" if torch.cuda.is_available() else \"cpu\")"
   ],
   "outputs": [],
   "execution_count": 2
  },
  {
   "cell_type": "code",
   "id": "ead6d8aa",
   "metadata": {
    "ExecuteTime": {
     "end_time": "2025-06-24T08:32:12.751713Z",
     "start_time": "2025-06-24T08:32:12.746137Z"
    }
   },
   "source": [
    "config_path = '/workspace/img_clf/saved/models/custom_convnext_augmix/0614_080216/config.json'\n",
    "\n",
    "with open(config_path, 'r') as f:\n",
    "    config = json.load(f)"
   ],
   "outputs": [],
   "execution_count": 3
  },
  {
   "cell_type": "code",
   "id": "19a6af10",
   "metadata": {
    "ExecuteTime": {
     "end_time": "2025-06-24T08:32:13.879048Z",
     "start_time": "2025-06-24T08:32:13.874319Z"
    }
   },
   "source": [
    "head_layer = config"
   ],
   "outputs": [],
   "execution_count": 4
  },
  {
   "cell_type": "code",
   "id": "925d7f8b",
   "metadata": {
    "ExecuteTime": {
     "end_time": "2025-06-24T08:32:14.989960Z",
     "start_time": "2025-06-24T08:32:14.980494Z"
    }
   },
   "source": [
    "head_layer['arch']"
   ],
   "outputs": [
    {
     "data": {
      "text/plain": [
       "{'type': 'CustomConvNextClassifier',\n",
       " 'args': {'head_layers': [{'type': 'LayerNorm',\n",
       "    'args': {'normalized_shape': 1024}},\n",
       "   {'type': 'Linear', 'args': {'in_features': 1024, 'out_features': 512}},\n",
       "   {'type': 'GELU'},\n",
       "   {'type': 'Dropout', 'args': {'p': 0.3}},\n",
       "   {'type': 'Linear', 'args': {'in_features': 512, 'out_features': 396}}]}}"
      ]
     },
     "execution_count": 5,
     "metadata": {},
     "output_type": "execute_result"
    }
   ],
   "execution_count": 5
  },
  {
   "cell_type": "code",
   "id": "0a359dd0",
   "metadata": {
    "ExecuteTime": {
     "end_time": "2025-06-24T08:32:17.612734Z",
     "start_time": "2025-06-24T08:32:15.204896Z"
    }
   },
   "source": [
    "model = CustomConvNextClassifier(num_classes=396, head_layer=head_layer['arch'])"
   ],
   "outputs": [],
   "execution_count": 6
  },
  {
   "cell_type": "code",
   "id": "b9ed738f",
   "metadata": {
    "ExecuteTime": {
     "end_time": "2025-06-24T08:32:18.907693Z",
     "start_time": "2025-06-24T08:32:17.619850Z"
    }
   },
   "source": [
    "checkpoint = torch.load('/workspace/img_clf/saved/models/custom_convnext_augmix/0614_080216/model_best.pth', weights_only=False, map_location=device)"
   ],
   "outputs": [],
   "execution_count": 7
  },
  {
   "cell_type": "code",
   "id": "8b844848",
   "metadata": {
    "ExecuteTime": {
     "end_time": "2025-06-24T08:32:18.932700Z",
     "start_time": "2025-06-24T08:32:18.929161Z"
    }
   },
   "source": [
    "state_dict = checkpoint['state_dict']"
   ],
   "outputs": [],
   "execution_count": 8
  },
  {
   "cell_type": "code",
   "id": "1e6cf5d3",
   "metadata": {
    "ExecuteTime": {
     "end_time": "2025-06-24T08:32:19.191540Z",
     "start_time": "2025-06-24T08:32:18.974249Z"
    }
   },
   "source": [
    "model.load_state_dict(state_dict)"
   ],
   "outputs": [
    {
     "ename": "RuntimeError",
     "evalue": "Error(s) in loading state_dict for CustomConvNextClassifier:\n\tUnexpected key(s) in state_dict: \"head.0.weight\", \"head.0.bias\", \"head.1.weight\", \"head.1.bias\", \"head.4.weight\", \"head.4.bias\". ",
     "output_type": "error",
     "traceback": [
      "\u001B[31m---------------------------------------------------------------------------\u001B[39m",
      "\u001B[31mRuntimeError\u001B[39m                              Traceback (most recent call last)",
      "\u001B[36mCell\u001B[39m\u001B[36m \u001B[39m\u001B[32mIn[9]\u001B[39m\u001B[32m, line 1\u001B[39m\n\u001B[32m----> \u001B[39m\u001B[32m1\u001B[39m \u001B[43mmodel\u001B[49m\u001B[43m.\u001B[49m\u001B[43mload_state_dict\u001B[49m\u001B[43m(\u001B[49m\u001B[43mstate_dict\u001B[49m\u001B[43m)\u001B[49m\n",
      "\u001B[36mFile \u001B[39m\u001B[32m/workspace/clf/lib/python3.12/site-packages/torch/nn/modules/module.py:2593\u001B[39m, in \u001B[36mModule.load_state_dict\u001B[39m\u001B[34m(self, state_dict, strict, assign)\u001B[39m\n\u001B[32m   2585\u001B[39m         error_msgs.insert(\n\u001B[32m   2586\u001B[39m             \u001B[32m0\u001B[39m,\n\u001B[32m   2587\u001B[39m             \u001B[33m\"\u001B[39m\u001B[33mMissing key(s) in state_dict: \u001B[39m\u001B[38;5;132;01m{}\u001B[39;00m\u001B[33m. \u001B[39m\u001B[33m\"\u001B[39m.format(\n\u001B[32m   2588\u001B[39m                 \u001B[33m\"\u001B[39m\u001B[33m, \u001B[39m\u001B[33m\"\u001B[39m.join(\u001B[33mf\u001B[39m\u001B[33m'\u001B[39m\u001B[33m\"\u001B[39m\u001B[38;5;132;01m{\u001B[39;00mk\u001B[38;5;132;01m}\u001B[39;00m\u001B[33m\"\u001B[39m\u001B[33m'\u001B[39m \u001B[38;5;28;01mfor\u001B[39;00m k \u001B[38;5;129;01min\u001B[39;00m missing_keys)\n\u001B[32m   2589\u001B[39m             ),\n\u001B[32m   2590\u001B[39m         )\n\u001B[32m   2592\u001B[39m \u001B[38;5;28;01mif\u001B[39;00m \u001B[38;5;28mlen\u001B[39m(error_msgs) > \u001B[32m0\u001B[39m:\n\u001B[32m-> \u001B[39m\u001B[32m2593\u001B[39m     \u001B[38;5;28;01mraise\u001B[39;00m \u001B[38;5;167;01mRuntimeError\u001B[39;00m(\n\u001B[32m   2594\u001B[39m         \u001B[33m\"\u001B[39m\u001B[33mError(s) in loading state_dict for \u001B[39m\u001B[38;5;132;01m{}\u001B[39;00m\u001B[33m:\u001B[39m\u001B[38;5;130;01m\\n\u001B[39;00m\u001B[38;5;130;01m\\t\u001B[39;00m\u001B[38;5;132;01m{}\u001B[39;00m\u001B[33m\"\u001B[39m.format(\n\u001B[32m   2595\u001B[39m             \u001B[38;5;28mself\u001B[39m.\u001B[34m__class__\u001B[39m.\u001B[34m__name__\u001B[39m, \u001B[33m\"\u001B[39m\u001B[38;5;130;01m\\n\u001B[39;00m\u001B[38;5;130;01m\\t\u001B[39;00m\u001B[33m\"\u001B[39m.join(error_msgs)\n\u001B[32m   2596\u001B[39m         )\n\u001B[32m   2597\u001B[39m     )\n\u001B[32m   2598\u001B[39m \u001B[38;5;28;01mreturn\u001B[39;00m _IncompatibleKeys(missing_keys, unexpected_keys)\n",
      "\u001B[31mRuntimeError\u001B[39m: Error(s) in loading state_dict for CustomConvNextClassifier:\n\tUnexpected key(s) in state_dict: \"head.0.weight\", \"head.0.bias\", \"head.1.weight\", \"head.1.bias\", \"head.4.weight\", \"head.4.bias\". "
     ]
    }
   ],
   "execution_count": 9
  },
  {
   "cell_type": "code",
   "execution_count": null,
   "id": "fe8f37ec",
   "metadata": {},
   "outputs": [],
   "source": []
  },
  {
   "cell_type": "code",
   "execution_count": null,
   "id": "c2be4209",
   "metadata": {},
   "outputs": [],
   "source": []
  }
 ],
 "metadata": {
  "kernelspec": {
   "display_name": "clf",
   "language": "python",
   "name": "clf"
  },
  "language_info": {
   "codemirror_mode": {
    "name": "ipython",
    "version": 3
   },
   "file_extension": ".py",
   "mimetype": "text/x-python",
   "name": "python",
   "nbconvert_exporter": "python",
   "pygments_lexer": "ipython3",
   "version": "3.12.3"
  }
 },
 "nbformat": 4,
 "nbformat_minor": 5
}
